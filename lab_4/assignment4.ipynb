{
 "cells": [
  {
   "cell_type": "markdown",
   "metadata": {
    "id": "FwEL0Ix900sX"
   },
   "source": "# 6407 Скосырский Никита. Вариант 3. Лабораторная работа 4"
  },
  {
   "cell_type": "markdown",
   "metadata": {
    "id": "wydtefmO00sg"
   },
   "source": [
    "Tensorflow 2.x\n",
    "\n",
    "1) Подготовка данных\n",
    "\n",
    "2) Использование Keras Model API\n",
    "\n",
    "3) Использование Keras Sequential + Functional API"
   ]
  },
  {
   "cell_type": "markdown",
   "metadata": {
    "id": "NBUm8ctY00sh"
   },
   "source": [
    "https://www.tensorflow.org/tutorials"
   ]
  },
  {
   "cell_type": "markdown",
   "metadata": {
    "id": "s4gNt5wn00sj"
   },
   "source": [
    "Для выполнения лабораторной работы необходимо установить tensorflow версии 2.0 или выше .\n",
    "\n",
    "Рекомендуется использовать возможности Colab'а по обучению моделей на GPU.\n",
    "\n"
   ]
  },
  {
   "cell_type": "code",
   "metadata": {
    "id": "n9J2apq900sm",
    "ExecuteTime": {
     "end_time": "2024-05-07T00:36:56.607133Z",
     "start_time": "2024-05-07T00:36:56.600322Z"
    }
   },
   "source": [
    "import os\n",
    "import tensorflow as tf\n",
    "import numpy as np\n",
    "import math\n",
    "import timeit\n",
    "import matplotlib.pyplot as plt\n",
    "\n",
    "%matplotlib inline"
   ],
   "outputs": [],
   "execution_count": 2
  },
  {
   "cell_type": "code",
   "metadata": {
    "id": "yb9_MVk_1Qvc",
    "ExecuteTime": {
     "end_time": "2024-05-07T00:36:56.800866Z",
     "start_time": "2024-05-07T00:36:56.797110Z"
    }
   },
   "source": [
    "USE_GPU = True\n",
    "device = '/device:GPU:0' if USE_GPU else '/cpu:0'"
   ],
   "outputs": [],
   "execution_count": 3
  },
  {
   "metadata": {
    "ExecuteTime": {
     "end_time": "2024-05-07T00:36:56.822827Z",
     "start_time": "2024-05-07T00:36:56.816496Z"
    }
   },
   "cell_type": "code",
   "source": [
    "if tf.config.list_physical_devices('GPU'):\n",
    "    print(\"GPU доступен!\")\n",
    "else:\n",
    "    print(\"GPU не обнаружен. Код будет работать на CPU.\")"
   ],
   "outputs": [
    {
     "name": "stdout",
     "output_type": "stream",
     "text": [
      "GPU не обнаружен. Код будет работать на CPU.\n"
     ]
    }
   ],
   "execution_count": 4
  },
  {
   "metadata": {
    "ExecuteTime": {
     "end_time": "2024-05-07T00:36:56.887573Z",
     "start_time": "2024-05-07T00:36:56.869712Z"
    }
   },
   "cell_type": "code",
   "source": [
    "from tensorflow.python.client import device_lib\n",
    "print(device_lib.list_local_devices())\n",
    "print('----')\n",
    "print(tf.test.gpu_device_name())\n",
    "print('----')"
   ],
   "outputs": [
    {
     "name": "stdout",
     "output_type": "stream",
     "text": [
      "[name: \"/device:CPU:0\"\n",
      "device_type: \"CPU\"\n",
      "memory_limit: 268435456\n",
      "locality {\n",
      "}\n",
      "incarnation: 7844286575711184862\n",
      "xla_global_id: -1\n",
      "]\n",
      "----\n",
      "\n",
      "----\n"
     ]
    }
   ],
   "execution_count": 5
  },
  {
   "cell_type": "code",
   "metadata": {
    "id": "yjVO6t2k2t5Y",
    "ExecuteTime": {
     "end_time": "2024-05-07T00:36:56.923856Z",
     "start_time": "2024-05-07T00:36:56.918829Z"
    }
   },
   "source": [
    "print_every = 100"
   ],
   "outputs": [],
   "execution_count": 6
  },
  {
   "cell_type": "markdown",
   "metadata": {
    "id": "QE--OYJi00sp"
   },
   "source": [
    "# Подготовка данных\n",
    "Загрузите набор данных из предыдущей лабораторной работы."
   ]
  },
  {
   "cell_type": "code",
   "metadata": {
    "colab": {
     "base_uri": "https://localhost:8080/"
    },
    "id": "7m40FTUR00sq",
    "outputId": "54b895a7-8d7c-44a4-b84c-cd3732bd4c89",
    "ExecuteTime": {
     "end_time": "2024-05-07T00:36:59.271654Z",
     "start_time": "2024-05-07T00:36:56.970739Z"
    }
   },
   "source": [
    "def load_cifar10(num_training=49000, num_validation=1000, num_test=10000):\n",
    "    \"\"\"\n",
    "    Fetch the CIFAR-10 dataset from the web and perform preprocessing to prepare\n",
    "    it for the two-layer neural net classifier. These are the same steps as\n",
    "    we used for the SVM, but condensed to a single function.\n",
    "    \"\"\"\n",
    "    # Load the raw CIFAR-10 dataset and use appropriate data types and shapes\n",
    "    cifar10 = tf.keras.datasets.cifar10.load_data()\n",
    "    (X_train, y_train), (X_test, y_test) = cifar10\n",
    "    X_train = np.asarray(X_train, dtype=np.float32)\n",
    "    y_train = np.asarray(y_train, dtype=np.int32).flatten()\n",
    "    X_test = np.asarray(X_test, dtype=np.float32)\n",
    "    y_test = np.asarray(y_test, dtype=np.int32).flatten()\n",
    "\n",
    "    # Subsample the data\n",
    "    mask = range(num_training, num_training + num_validation)\n",
    "    X_val = X_train[mask]\n",
    "    y_val = y_train[mask]\n",
    "    mask = range(num_training)\n",
    "    X_train = X_train[mask]\n",
    "    y_train = y_train[mask]\n",
    "    mask = range(num_test)\n",
    "    X_test = X_test[mask]\n",
    "    y_test = y_test[mask]\n",
    "\n",
    "    # Normalize the data: subtract the mean pixel and divide by std\n",
    "    mean_pixel = X_train.mean(axis=(0, 1, 2), keepdims=True)\n",
    "    std_pixel = X_train.std(axis=(0, 1, 2), keepdims=True)\n",
    "    X_train = (X_train - mean_pixel) / std_pixel\n",
    "    X_val = (X_val - mean_pixel) / std_pixel\n",
    "    X_test = (X_test - mean_pixel) / std_pixel\n",
    "\n",
    "    return X_train, y_train, X_val, y_val, X_test, y_test\n",
    "\n",
    "# If there are errors with SSL downloading involving self-signed certificates,\n",
    "# it may be that your Python version was recently installed on the current machine.\n",
    "# See: https://github.com/tensorflow/tensorflow/issues/10779\n",
    "# To fix, run the command: /Applications/Python\\ 3.7/Install\\ Certificates.command\n",
    "#   ...replacing paths as necessary.\n",
    "\n",
    "# Invoke the above function to get our data.\n",
    "NHW = (0, 1, 2)\n",
    "X_train, y_train, X_val, y_val, X_test, y_test = load_cifar10()\n",
    "print('Train data shape: ', X_train.shape)\n",
    "print('Train labels shape: ', y_train.shape, y_train.dtype)\n",
    "print('Validation data shape: ', X_val.shape)\n",
    "print('Validation labels shape: ', y_val.shape)\n",
    "print('Test data shape: ', X_test.shape)\n",
    "print('Test labels shape: ', y_test.shape)"
   ],
   "outputs": [
    {
     "name": "stdout",
     "output_type": "stream",
     "text": [
      "Train data shape:  (49000, 32, 32, 3)\n",
      "Train labels shape:  (49000,) int32\n",
      "Validation data shape:  (1000, 32, 32, 3)\n",
      "Validation labels shape:  (1000,)\n",
      "Test data shape:  (10000, 32, 32, 3)\n",
      "Test labels shape:  (10000,)\n"
     ]
    }
   ],
   "execution_count": 7
  },
  {
   "cell_type": "code",
   "metadata": {
    "id": "SkfwKpCJ00sr",
    "ExecuteTime": {
     "end_time": "2024-05-07T00:36:59.279636Z",
     "start_time": "2024-05-07T00:36:59.271654Z"
    }
   },
   "source": [
    "class Dataset(object):\n",
    "    def __init__(self, X, y, batch_size, shuffle=False):\n",
    "        \"\"\"\n",
    "        Construct a Dataset object to iterate over data X and labels y\n",
    "        \n",
    "        Inputs:\n",
    "        - X: Numpy array of data, of any shape\n",
    "        - y: Numpy array of labels, of any shape but with y.shape[0] == X.shape[0]\n",
    "        - batch_size: Integer giving number of elements per minibatch\n",
    "        - shuffle: (optional) Boolean, whether to shuffle the data on each epoch\n",
    "        \"\"\"\n",
    "        assert X.shape[0] == y.shape[0], 'Got different numbers of data and labels'\n",
    "        self.X, self.y = X, y\n",
    "        self.batch_size, self.shuffle = batch_size, shuffle\n",
    "\n",
    "    def __iter__(self):\n",
    "        N, B = self.X.shape[0], self.batch_size\n",
    "        idxs = np.arange(N)\n",
    "        if self.shuffle:\n",
    "            np.random.shuffle(idxs)\n",
    "        return iter((self.X[i:i+B], self.y[i:i+B]) for i in range(0, N, B))\n",
    "\n",
    "\n",
    "train_dset = Dataset(X_train, y_train, batch_size=64, shuffle=True)\n",
    "val_dset = Dataset(X_val, y_val, batch_size=64, shuffle=False)\n",
    "test_dset = Dataset(X_test, y_test, batch_size=64)"
   ],
   "outputs": [],
   "execution_count": 8
  },
  {
   "cell_type": "code",
   "metadata": {
    "colab": {
     "base_uri": "https://localhost:8080/"
    },
    "id": "9VNIN1JB00ss",
    "outputId": "6d235d6a-aba6-4fab-9a4e-0de729bb43b2",
    "ExecuteTime": {
     "end_time": "2024-05-07T00:36:59.305913Z",
     "start_time": "2024-05-07T00:36:59.279636Z"
    }
   },
   "source": [
    "# We can iterate through a dataset like this:\n",
    "for t, (x, y) in enumerate(train_dset):\n",
    "    print(t, x.shape, y.shape)\n",
    "    if t > 5: break"
   ],
   "outputs": [
    {
     "name": "stdout",
     "output_type": "stream",
     "text": [
      "0 (64, 32, 32, 3) (64,)\n",
      "1 (64, 32, 32, 3) (64,)\n",
      "2 (64, 32, 32, 3) (64,)\n",
      "3 (64, 32, 32, 3) (64,)\n",
      "4 (64, 32, 32, 3) (64,)\n",
      "5 (64, 32, 32, 3) (64,)\n",
      "6 (64, 32, 32, 3) (64,)\n"
     ]
    }
   ],
   "execution_count": 9
  },
  {
   "cell_type": "markdown",
   "metadata": {
    "id": "j2YJcBuY00su"
   },
   "source": [
    "#  Keras Model Subclassing API"
   ]
  },
  {
   "cell_type": "markdown",
   "metadata": {
    "id": "aHb91Q9d00su"
   },
   "source": [
    "\n",
    "Для реализации собственной модели с помощью Keras Model Subclassing API необходимо выполнить следующие шаги:\n",
    "\n",
    "1) Определить новый класс, который является наследником tf.keras.Model.\n",
    "\n",
    "2) В методе __init__() определить все необходимые слои из модуля tf.keras.layer\n",
    "\n",
    "3) Реализовать прямой проход в методе call() на основе слоев, объявленных в __init__()\n",
    "\n",
    "Ниже приведен пример использования keras API для определения двухслойной полносвязной сети.\n",
    "\n",
    "https://www.tensorflow.org/versions/r2.0/api_docs/python/tf/keras"
   ]
  },
  {
   "cell_type": "code",
   "metadata": {
    "colab": {
     "base_uri": "https://localhost:8080/"
    },
    "id": "-JjoN1Vw00su",
    "outputId": "fb8699e6-e6ab-4f40-d682-6116a5e3a063",
    "ExecuteTime": {
     "end_time": "2024-05-07T00:37:01.208934Z",
     "start_time": "2024-05-07T00:36:59.305913Z"
    }
   },
   "source": [
    "class TwoLayerFC(tf.keras.Model):\n",
    "    def __init__(self, hidden_size, num_classes):\n",
    "        super(TwoLayerFC, self).__init__()\n",
    "        initializer = tf.initializers.VarianceScaling(scale=2.0)\n",
    "        self.fc1 = tf.keras.layers.Dense(hidden_size, activation='relu',\n",
    "                                         kernel_initializer=initializer)\n",
    "        self.fc2 = tf.keras.layers.Dense(num_classes, activation='softmax',\n",
    "                                         kernel_initializer=initializer)\n",
    "        self.flatten = tf.keras.layers.Flatten()\n",
    "\n",
    "    def call(self, x, training=False):\n",
    "        x = self.flatten(x)\n",
    "        x = self.fc1(x)\n",
    "        x = self.fc2(x)\n",
    "        return x\n",
    "\n",
    "\n",
    "def test_TwoLayerFC():\n",
    "    \"\"\" A small unit test to exercise the TwoLayerFC model above. \"\"\"\n",
    "    input_size, hidden_size, num_classes = 50, 42, 10\n",
    "    x = tf.zeros((64, input_size))\n",
    "    model = TwoLayerFC(hidden_size, num_classes)\n",
    "    with tf.device(device):\n",
    "        scores = model(x)\n",
    "        print(scores.shape)\n",
    "\n",
    "test_TwoLayerFC()"
   ],
   "outputs": [
    {
     "name": "stdout",
     "output_type": "stream",
     "text": [
      "(64, 10)\n"
     ]
    }
   ],
   "execution_count": 10
  },
  {
   "cell_type": "markdown",
   "metadata": {
    "id": "euXqeEOH00sv"
   },
   "source": [
    "Реализуйте трехслойную CNN для вашей задачи классификации.\n",
    "\n",
    "Архитектура сети:\n",
    "    \n",
    "1. Сверточный слой (5 x 5 kernels, zero-padding = 'same')\n",
    "2. Функция активации ReLU\n",
    "3. Сверточный слой (3 x 3 kernels, zero-padding = 'same')\n",
    "4. Функция активации ReLU\n",
    "5. Полносвязный слой\n",
    "6. Функция активации Softmax\n",
    "\n",
    "https://www.tensorflow.org/versions/r2.0/api_docs/python/tf/keras/layers/Conv2D\n",
    "\n",
    "https://www.tensorflow.org/versions/r2.0/api_docs/python/tf/keras/layers/Dense"
   ]
  },
  {
   "cell_type": "code",
   "metadata": {
    "id": "fhj-jCDb00sv",
    "ExecuteTime": {
     "end_time": "2024-05-07T00:37:01.216701Z",
     "start_time": "2024-05-07T00:37:01.208934Z"
    }
   },
   "source": [
    "class ThreeLayerConvNet(tf.keras.Model):\n",
    "    def __init__(self, channel_1, channel_2, num_classes):\n",
    "        super(ThreeLayerConvNet, self).__init__()\n",
    "        ########################################################################\n",
    "        # TODO: Implement the __init__ method for a three-layer ConvNet. You   #\n",
    "        # should instantiate layer objects to be used in the forward pass.     #\n",
    "        ########################################################################\n",
    "        # *****START OF YOUR CODE (DO NOT DELETE/MODIFY THIS LINE)*****\n",
    "\n",
    "        self.conv_layer1 = tf.keras.layers.Conv2D(channel_1, (5, 5), padding='same', activation='relu')\n",
    "        self.conv_layer2 = tf.keras.layers.Conv2D(channel_2, (3, 3), padding='same', activation='relu')\n",
    "        self.flatten_layer = tf.keras.layers.Flatten()\n",
    "        self.fc_layer = tf.keras.layers.Dense(num_classes, activation='softmax')\n",
    "\n",
    "        # *****END OF YOUR CODE (DO NOT DELETE/MODIFY THIS LINE)*****\n",
    "        ########################################################################\n",
    "        #                           END OF YOUR CODE                           #\n",
    "        ########################################################################\n",
    "\n",
    "    def call(self, x_input, training_flag=False):\n",
    "        output_scores = None\n",
    "        ########################################################################\n",
    "        # TODO: Implement the forward pass for a three-layer ConvNet. You      #\n",
    "        # should use the layer objects defined in the __init__ method.         #\n",
    "        ########################################################################\n",
    "        # *****START OF YOUR CODE (DO NOT DELETE/MODIFY THIS LINE)*****\n",
    "\n",
    "        output_scores = self.conv_layer1(x_input)\n",
    "        output_scores = self.conv_layer2(output_scores)\n",
    "        output_scores = self.flatten_layer(output_scores)\n",
    "        output_scores = self.fc_layer(output_scores)\n",
    "\n",
    "        # *****END OF YOUR CODE (DO NOT DELETE/MODIFY THIS LINE)*****\n",
    "        ########################################################################\n",
    "        #                           END OF YOUR CODE                           #\n",
    "        ########################################################################\n",
    "        return output_scores"
   ],
   "outputs": [],
   "execution_count": 11
  },
  {
   "cell_type": "code",
   "metadata": {
    "colab": {
     "base_uri": "https://localhost:8080/"
    },
    "id": "cNF5eIfL00sw",
    "outputId": "d4cf2c0e-b745-4430-b77e-4a56153523d2",
    "ExecuteTime": {
     "end_time": "2024-05-07T00:37:01.410384Z",
     "start_time": "2024-05-07T00:37:01.216701Z"
    }
   },
   "source": [
    "def test_ThreeLayerConvNet():\n",
    "    channel_1, channel_2, num_classes = 12, 8, 10\n",
    "    model = ThreeLayerConvNet(channel_1, channel_2, num_classes)\n",
    "    with tf.device(device):\n",
    "        x = tf.zeros((64, 3, 32, 32))\n",
    "        scores = model(x)\n",
    "        print(scores.shape)\n",
    "\n",
    "test_ThreeLayerConvNet()"
   ],
   "outputs": [
    {
     "name": "stdout",
     "output_type": "stream",
     "text": [
      "(64, 10)\n"
     ]
    }
   ],
   "execution_count": 12
  },
  {
   "cell_type": "markdown",
   "metadata": {
    "id": "VwHw8q_f00sw"
   },
   "source": [
    "Пример реализации процесса обучения:"
   ]
  },
  {
   "metadata": {
    "ExecuteTime": {
     "end_time": "2024-05-07T00:37:01.418549Z",
     "start_time": "2024-05-07T00:37:01.410384Z"
    }
   },
   "cell_type": "code",
   "source": [
    "from importlib import reload\n",
    "import tensorflow as tf\n",
    "\n",
    "# Перезагрузка модуля k_nearest_neighbor\n",
    "reload(tf)\n",
    "\n",
    "# Импорт функции KNearestNeighbor после перезагрузки модуля\n",
    "import tensorflow as tf\n",
    "\n",
    "# Проверка версии TensorFlow\n",
    "print(\"TensorFlow version:\", tf.__version__)"
   ],
   "outputs": [
    {
     "name": "stdout",
     "output_type": "stream",
     "text": [
      "TensorFlow version: 2.16.1\n"
     ]
    }
   ],
   "execution_count": 13
  },
  {
   "cell_type": "code",
   "metadata": {
    "id": "p-4cw3gt00sw",
    "ExecuteTime": {
     "end_time": "2024-05-07T00:37:01.429488Z",
     "start_time": "2024-05-07T00:37:01.418549Z"
    }
   },
   "source": [
    "def train_part34(model_init_fn, optimizer_init_fn, num_epochs=1, is_training=False):\n",
    "    \"\"\"\n",
    "    Simple training loop for use with models defined using tf.keras. It trains\n",
    "    a model for one epoch on the CIFAR-10 training set and periodically checks\n",
    "    accuracy on the CIFAR-10 validation set.\n",
    "\n",
    "    Inputs:\n",
    "    - model_init_fn: A function that takes no parameters; when called it\n",
    "      constructs the model we want to train: model = model_init_fn()\n",
    "    - optimizer_init_fn: A function which takes no parameters; when called it\n",
    "      constructs the Optimizer object we will use to optimize the model:\n",
    "      optimizer = optimizer_init_fn()\n",
    "    - num_epochs: The number of epochs to train for\n",
    "\n",
    "    Returns: Nothing, but prints progress during trainingn\n",
    "    \"\"\"\n",
    "    with tf.device(device):\n",
    "\n",
    "\n",
    "        loss_fn = tf.keras.losses.SparseCategoricalCrossentropy()\n",
    "\n",
    "        model = model_init_fn()\n",
    "        optimizer = optimizer_init_fn()\n",
    "\n",
    "        train_loss = tf.keras.metrics.Mean(name='train_loss')\n",
    "        train_accuracy = tf.keras.metrics.SparseCategoricalAccuracy(name='train_accuracy')\n",
    "\n",
    "        val_loss = tf.keras.metrics.Mean(name='val_loss')\n",
    "        val_accuracy = tf.keras.metrics.SparseCategoricalAccuracy(name='val_accuracy')\n",
    "\n",
    "        t = 0\n",
    "        \n",
    "        for epoch in range(num_epochs):\n",
    "    \n",
    "            # Reset the metrics - https://www.tensorflow.org/alpha/guide/migration_guide#new-style_metrics\n",
    "            # train_loss.reset_states()\n",
    "            # train_accuracy.reset_states()\n",
    "            train_loss.reset_state()\n",
    "            train_accuracy.reset_state()\n",
    "\n",
    "            for x_np, y_np in train_dset:\n",
    "                with tf.GradientTape() as tape:\n",
    "\n",
    "                    # Use the model function to build the forward pass.\n",
    "                    scores = model(x_np, training=is_training)\n",
    "                    loss = loss_fn(y_np, scores)\n",
    "\n",
    "                    gradients = tape.gradient(loss, model.trainable_variables)\n",
    "                    optimizer.apply_gradients(zip(gradients, model.trainable_variables))\n",
    "\n",
    "                    # Update the metrics\n",
    "                    train_loss.update_state(loss)\n",
    "                    train_accuracy.update_state(y_np, scores)\n",
    "\n",
    "                    if t % print_every == 0:\n",
    "                        val_loss.reset_state()\n",
    "                        val_accuracy.reset_state()\n",
    "                        for test_x, test_y in val_dset:\n",
    "                            # During validation at end of epoch, training set to False\n",
    "                            prediction = model(test_x, training=False)\n",
    "                            t_loss = loss_fn(test_y, prediction)\n",
    "\n",
    "                            val_loss.update_state(t_loss)\n",
    "                            val_accuracy.update_state(test_y, prediction)\n",
    "\n",
    "                        template = 'Iteration {}, Epoch {}, Loss: {}, Accuracy: {}, Val Loss: {}, Val Accuracy: {}'\n",
    "                        print (template.format(t, epoch+1,\n",
    "                                             train_loss.result(),\n",
    "                                             train_accuracy.result()*100,\n",
    "                                             val_loss.result(),\n",
    "                                             val_accuracy.result()*100))\n",
    "                    t += 1"
   ],
   "outputs": [],
   "execution_count": 14
  },
  {
   "cell_type": "code",
   "metadata": {
    "colab": {
     "base_uri": "https://localhost:8080/"
    },
    "id": "GhoNxmLf00sx",
    "outputId": "e77aa457-3b78-4aa8-c351-dc245ad18a89",
    "ExecuteTime": {
     "end_time": "2024-05-07T00:37:37.161229Z",
     "start_time": "2024-05-07T00:37:01.429488Z"
    }
   },
   "source": [
    "hidden_size, num_classes = 4000, 10\n",
    "learning_rate = 1e-2\n",
    "\n",
    "def model_init_fn():\n",
    "    return TwoLayerFC(hidden_size, num_classes)\n",
    "\n",
    "def optimizer_init_fn():\n",
    "    return tf.keras.optimizers.SGD(learning_rate=learning_rate)\n",
    "\n",
    "train_part34(model_init_fn, optimizer_init_fn)"
   ],
   "outputs": [
    {
     "name": "stdout",
     "output_type": "stream",
     "text": [
      "Iteration 0, Epoch 1, Loss: 2.94515323638916, Accuracy: 3.125, Val Loss: 2.704075574874878, Val Accuracy: 13.0\n",
      "Iteration 100, Epoch 1, Loss: 2.2210593223571777, Accuracy: 28.016706466674805, Val Loss: 1.9005126953125, Val Accuracy: 37.20000076293945\n",
      "Iteration 200, Epoch 1, Loss: 2.0719752311706543, Accuracy: 31.895212173461914, Val Loss: 1.916794776916504, Val Accuracy: 38.20000076293945\n",
      "Iteration 300, Epoch 1, Loss: 2.0008108615875244, Accuracy: 33.85589599609375, Val Loss: 1.863828420639038, Val Accuracy: 37.900001525878906\n",
      "Iteration 400, Epoch 1, Loss: 1.932950496673584, Accuracy: 35.750465393066406, Val Loss: 1.7198725938796997, Val Accuracy: 42.5\n",
      "Iteration 500, Epoch 1, Loss: 1.8884373903274536, Accuracy: 36.75773620605469, Val Loss: 1.671434998512268, Val Accuracy: 44.400001525878906\n",
      "Iteration 600, Epoch 1, Loss: 1.8583064079284668, Accuracy: 37.70798873901367, Val Loss: 1.6952496767044067, Val Accuracy: 43.0\n",
      "Iteration 700, Epoch 1, Loss: 1.8297995328903198, Accuracy: 38.498573303222656, Val Loss: 1.6271637678146362, Val Accuracy: 46.0\n"
     ]
    }
   ],
   "execution_count": 15
  },
  {
   "cell_type": "markdown",
   "metadata": {
    "id": "1dPtCbHS00sx"
   },
   "source": [
    "Обучите трехслойную CNN. В tf.keras.optimizers.SGD укажите Nesterov momentum = 0.9 .\n",
    "\n",
    "https://www.tensorflow.org/versions/r2.0/api_docs/python/tf/optimizers/SGD\n",
    "\n",
    "Значение accuracy на валидационной выборке после 1 эпохи обучения должно быть > 50% ."
   ]
  },
  {
   "cell_type": "code",
   "metadata": {
    "colab": {
     "base_uri": "https://localhost:8080/"
    },
    "id": "VUOCsUZX00sy",
    "outputId": "4f794876-a3be-4535-8d80-231806512f98",
    "ExecuteTime": {
     "end_time": "2024-05-07T00:38:17.638086Z",
     "start_time": "2024-05-07T00:37:37.161229Z"
    }
   },
   "source": [
    "learning_rate = 3e-3\n",
    "channel_1, channel_2, num_classes = 32, 16, 10\n",
    "\n",
    "def model_init_fn():\n",
    "    model = None\n",
    "    ############################################################################\n",
    "    # TODO: Complete the implementation of model_fn.                           #\n",
    "    ############################################################################\n",
    "    # *****START OF YOUR CODE (DO NOT DELETE/MODIFY THIS LINE)*****\n",
    "\n",
    "    model = ThreeLayerConvNet(channel_1, channel_2, num_classes)\n",
    "\n",
    "    # *****END OF YOUR CODE (DO NOT DELETE/MODIFY THIS LINE)*****\n",
    "    ############################################################################\n",
    "    #                           END OF YOUR CODE                               #\n",
    "    ############################################################################\n",
    "    return model\n",
    "\n",
    "def optimizer_init_fn():\n",
    "    optimizer = None\n",
    "    ############################################################################\n",
    "    # TODO: Complete the implementation of model_fn.                           #\n",
    "    ############################################################################\n",
    "    # *****START OF YOUR CODE (DO NOT DELETE/MODIFY THIS LINE)*****\n",
    "\n",
    "    optimizer = tf.keras.optimizers.SGD(learning_rate=learning_rate, momentum=0.9, nesterov=True)\n",
    "\n",
    "    # *****END OF YOUR CODE (DO NOT DELETE/MODIFY THIS LINE)*****\n",
    "    ############################################################################\n",
    "    #                           END OF YOUR CODE                               #\n",
    "    ############################################################################\n",
    "    return optimizer\n",
    "\n",
    "train_part34(model_init_fn, optimizer_init_fn)"
   ],
   "outputs": [
    {
     "name": "stdout",
     "output_type": "stream",
     "text": [
      "Iteration 0, Epoch 1, Loss: 2.302265167236328, Accuracy: 15.625, Val Loss: 2.341085433959961, Val Accuracy: 8.800000190734863\n",
      "Iteration 100, Epoch 1, Loss: 1.9169542789459229, Accuracy: 31.605815887451172, Val Loss: 1.6959242820739746, Val Accuracy: 40.20000076293945\n",
      "Iteration 200, Epoch 1, Loss: 1.7709877490997314, Accuracy: 37.678794860839844, Val Loss: 1.4992386102676392, Val Accuracy: 48.29999923706055\n",
      "Iteration 300, Epoch 1, Loss: 1.679482340812683, Accuracy: 40.91050720214844, Val Loss: 1.4625269174575806, Val Accuracy: 47.0\n",
      "Iteration 400, Epoch 1, Loss: 1.6069707870483398, Accuracy: 43.43437957763672, Val Loss: 1.3615479469299316, Val Accuracy: 50.5\n",
      "Iteration 500, Epoch 1, Loss: 1.5556151866912842, Accuracy: 45.150325775146484, Val Loss: 1.3295198678970337, Val Accuracy: 53.29999923706055\n",
      "Iteration 600, Epoch 1, Loss: 1.5231233835220337, Accuracy: 46.303035736083984, Val Loss: 1.2979220151901245, Val Accuracy: 54.20000076293945\n",
      "Iteration 700, Epoch 1, Loss: 1.4920926094055176, Accuracy: 47.43001174926758, Val Loss: 1.278678297996521, Val Accuracy: 54.5\n"
     ]
    }
   ],
   "execution_count": 16
  },
  {
   "cell_type": "markdown",
   "metadata": {
    "id": "ZBDDTsda00sy"
   },
   "source": [
    "# Использование Keras Sequential API для реализации последовательных моделей.\n",
    "\n",
    "Пример для полносвязной сети:"
   ]
  },
  {
   "cell_type": "code",
   "metadata": {
    "colab": {
     "base_uri": "https://localhost:8080/"
    },
    "id": "xE6Jixvr00sy",
    "outputId": "c3e590c0-8169-41df-9a75-a0bf4c4c89e0",
    "ExecuteTime": {
     "end_time": "2024-05-07T00:38:51.867696Z",
     "start_time": "2024-05-07T00:38:17.638086Z"
    }
   },
   "source": [
    "learning_rate = 1e-2\n",
    "\n",
    "def model_init_fn():\n",
    "    input_shape = (32, 32, 3)\n",
    "    hidden_layer_size, num_classes = 4000, 10\n",
    "    initializer = tf.initializers.VarianceScaling(scale=2.0)\n",
    "    layers = [\n",
    "        tf.keras.layers.Flatten(input_shape=input_shape),\n",
    "        tf.keras.layers.Dense(hidden_layer_size, activation='relu',\n",
    "                              kernel_initializer=initializer),\n",
    "        tf.keras.layers.Dense(num_classes, activation='softmax',\n",
    "                              kernel_initializer=initializer),\n",
    "    ]\n",
    "    model = tf.keras.Sequential(layers)\n",
    "    return model\n",
    "\n",
    "def optimizer_init_fn():\n",
    "    return tf.keras.optimizers.SGD(learning_rate=learning_rate)\n",
    "\n",
    "train_part34(model_init_fn, optimizer_init_fn)"
   ],
   "outputs": [
    {
     "name": "stderr",
     "output_type": "stream",
     "text": [
      "Z:\\Programs\\Python\\Lib\\site-packages\\keras\\src\\layers\\reshaping\\flatten.py:37: UserWarning: Do not pass an `input_shape`/`input_dim` argument to a layer. When using Sequential models, prefer using an `Input(shape)` object as the first layer in the model instead.\n",
      "  super().__init__(**kwargs)\n"
     ]
    },
    {
     "name": "stdout",
     "output_type": "stream",
     "text": [
      "Iteration 0, Epoch 1, Loss: 2.9622654914855957, Accuracy: 9.375, Val Loss: 2.8574187755584717, Val Accuracy: 12.700000762939453\n",
      "Iteration 100, Epoch 1, Loss: 2.212536096572876, Accuracy: 29.099628448486328, Val Loss: 1.8727930784225464, Val Accuracy: 37.70000076293945\n",
      "Iteration 200, Epoch 1, Loss: 2.063539743423462, Accuracy: 32.62593078613281, Val Loss: 1.803041934967041, Val Accuracy: 41.10000228881836\n",
      "Iteration 300, Epoch 1, Loss: 1.9884006977081299, Accuracy: 34.50996398925781, Val Loss: 1.8896706104278564, Val Accuracy: 36.39999771118164\n",
      "Iteration 400, Epoch 1, Loss: 1.9205865859985352, Accuracy: 36.30767059326172, Val Loss: 1.734802007675171, Val Accuracy: 42.599998474121094\n",
      "Iteration 500, Epoch 1, Loss: 1.8802872896194458, Accuracy: 37.17252731323242, Val Loss: 1.6493953466415405, Val Accuracy: 42.20000076293945\n",
      "Iteration 600, Epoch 1, Loss: 1.8509196043014526, Accuracy: 38.03556442260742, Val Loss: 1.696663498878479, Val Accuracy: 41.400001525878906\n",
      "Iteration 700, Epoch 1, Loss: 1.8262361288070679, Accuracy: 38.74152755737305, Val Loss: 1.636386513710022, Val Accuracy: 44.20000076293945\n"
     ]
    }
   ],
   "execution_count": 17
  },
  {
   "cell_type": "markdown",
   "metadata": {
    "id": "24cr_CzH00sy"
   },
   "source": [
    "Альтернативный менее гибкий способ обучения:"
   ]
  },
  {
   "cell_type": "code",
   "metadata": {
    "colab": {
     "base_uri": "https://localhost:8080/"
    },
    "id": "zW7EGVlQ00sz",
    "outputId": "41fa2829-b0d6-4b37-dc9e-502bcca538eb",
    "ExecuteTime": {
     "end_time": "2024-05-07T00:39:19.736332Z",
     "start_time": "2024-05-07T00:38:51.867696Z"
    }
   },
   "source": [
    "model = model_init_fn()\n",
    "model.compile(optimizer=tf.keras.optimizers.SGD(learning_rate=learning_rate),\n",
    "              loss='sparse_categorical_crossentropy',\n",
    "              metrics=[tf.keras.metrics.sparse_categorical_accuracy])\n",
    "model.fit(X_train, y_train, batch_size=64, epochs=1, validation_data=(X_val, y_val))\n",
    "model.evaluate(X_test, y_test)"
   ],
   "outputs": [
    {
     "name": "stdout",
     "output_type": "stream",
     "text": [
      "\u001B[1m766/766\u001B[0m \u001B[32m━━━━━━━━━━━━━━━━━━━━\u001B[0m\u001B[37m\u001B[0m \u001B[1m25s\u001B[0m 31ms/step - loss: 1.9890 - sparse_categorical_accuracy: 0.3451 - val_loss: 1.7798 - val_sparse_categorical_accuracy: 0.3950\n",
      "\u001B[1m313/313\u001B[0m \u001B[32m━━━━━━━━━━━━━━━━━━━━\u001B[0m\u001B[37m\u001B[0m \u001B[1m2s\u001B[0m 6ms/step - loss: 1.7638 - sparse_categorical_accuracy: 0.3985\n"
     ]
    },
    {
     "data": {
      "text/plain": [
       "[1.7682240009307861, 0.39730000495910645]"
      ]
     },
     "execution_count": 18,
     "metadata": {},
     "output_type": "execute_result"
    }
   ],
   "execution_count": 18
  },
  {
   "cell_type": "markdown",
   "metadata": {
    "id": "7IU3CgwL00sz"
   },
   "source": [
    "Перепишите реализацию трехслойной CNN с помощью tf.keras.Sequential API . Обучите модель двумя способами."
   ]
  },
  {
   "cell_type": "code",
   "metadata": {
    "colab": {
     "base_uri": "https://localhost:8080/"
    },
    "id": "foZ4OpDL00sz",
    "outputId": "abfbb2d7-2836-4df1-f267-09ba7e4e31b3",
    "ExecuteTime": {
     "end_time": "2024-05-07T00:40:09.069021Z",
     "start_time": "2024-05-07T00:39:19.736332Z"
    }
   },
   "source": [
    "def model_init_fn():\n",
    "    model = None\n",
    "    ############################################################################\n",
    "    # TODO: Construct a three-layer ConvNet using tf.keras.Sequential.         #\n",
    "    ############################################################################\n",
    "    # *****START OF YOUR CODE (DO NOT DELETE/MODIFY THIS LINE)*****\n",
    "\n",
    "    model = tf.keras.Sequential([\n",
    "        # Первый сверточный слой: 32 фильтра размером 5x5, активация ReLU\n",
    "        tf.keras.layers.Conv2D(32, (5, 5), padding='same', activation='relu', input_shape=(32, 32, 3)),\n",
    "        # Второй сверточный слой: 16 фильтров размером 3x3, активация ReLU\n",
    "        tf.keras.layers.Conv2D(16, (3, 3), padding='same', activation='relu'),\n",
    "        # Преобразование выходных данных сверточных слоев в плоский вектор\n",
    "        tf.keras.layers.Flatten(),\n",
    "        # Полносвязный слой с 10 нейронами и активацией softmax для классификации\n",
    "        tf.keras.layers.Dense(10, activation='softmax')\n",
    "    ])\n",
    "\n",
    "    # *****END OF YOUR CODE (DO NOT DELETE/MODIFY THIS LINE)*****\n",
    "    ############################################################################\n",
    "    #                            END OF YOUR CODE                              #\n",
    "    ############################################################################\n",
    "    return model\n",
    "\n",
    "learning_rate = 5e-4\n",
    "def optimizer_init_fn():\n",
    "    optimizer = None\n",
    "    ############################################################################\n",
    "    # TODO: Complete the implementation of model_fn.                           #\n",
    "    ############################################################################\n",
    "    # *****START OF YOUR CODE (DO NOT DELETE/MODIFY THIS LINE)*****\n",
    "\n",
    "    # Создание оптимизатора Adam с указанной скоростью обучения\n",
    "    optimizer = tf.keras.optimizers.Adam(learning_rate=learning_rate)\n",
    "\n",
    "    # *****END OF YOUR CODE (DO NOT DELETE/MODIFY THIS LINE)*****\n",
    "    ############################################################################\n",
    "    #                           END OF YOUR CODE                               #\n",
    "    ############################################################################\n",
    "    return optimizer\n",
    "\n",
    "# Обучение модели с помощью train_part34\n",
    "train_part34(model_init_fn, optimizer_init_fn)"
   ],
   "outputs": [
    {
     "name": "stderr",
     "output_type": "stream",
     "text": [
      "Z:\\Programs\\Python\\Lib\\site-packages\\keras\\src\\layers\\convolutional\\base_conv.py:107: UserWarning: Do not pass an `input_shape`/`input_dim` argument to a layer. When using Sequential models, prefer using an `Input(shape)` object as the first layer in the model instead.\n",
      "  super().__init__(activity_regularizer=activity_regularizer, **kwargs)\n"
     ]
    },
    {
     "name": "stdout",
     "output_type": "stream",
     "text": [
      "Iteration 0, Epoch 1, Loss: 2.303896427154541, Accuracy: 12.5, Val Loss: 2.468090772628784, Val Accuracy: 10.59999942779541\n",
      "Iteration 100, Epoch 1, Loss: 1.870271921157837, Accuracy: 34.15841293334961, Val Loss: 1.6311159133911133, Val Accuracy: 44.20000076293945\n",
      "Iteration 200, Epoch 1, Loss: 1.7217847108840942, Accuracy: 39.4511833190918, Val Loss: 1.4576530456542969, Val Accuracy: 51.20000076293945\n",
      "Iteration 300, Epoch 1, Loss: 1.6273754835128784, Accuracy: 42.8311882019043, Val Loss: 1.3945655822753906, Val Accuracy: 52.39999771118164\n",
      "Iteration 400, Epoch 1, Loss: 1.5556272268295288, Accuracy: 45.25794982910156, Val Loss: 1.343374490737915, Val Accuracy: 54.20000076293945\n",
      "Iteration 500, Epoch 1, Loss: 1.504088282585144, Accuracy: 47.05588912963867, Val Loss: 1.2656952142715454, Val Accuracy: 56.0\n",
      "Iteration 600, Epoch 1, Loss: 1.471628189086914, Accuracy: 48.34650421142578, Val Loss: 1.2444210052490234, Val Accuracy: 55.69999694824219\n",
      "Iteration 700, Epoch 1, Loss: 1.4418513774871826, Accuracy: 49.51631546020508, Val Loss: 1.26337468624115, Val Accuracy: 58.20000076293945\n"
     ]
    }
   ],
   "execution_count": 19
  },
  {
   "cell_type": "code",
   "metadata": {
    "colab": {
     "base_uri": "https://localhost:8080/"
    },
    "id": "DaQILHMd00s0",
    "outputId": "bddd6351-f7d2-4ab3-9970-2ada41ebe6da",
    "ExecuteTime": {
     "end_time": "2024-05-07T00:40:24.298559Z",
     "start_time": "2024-05-07T00:40:09.069021Z"
    }
   },
   "source": [
    "model = model_init_fn()\n",
    "model.compile(optimizer='sgd',\n",
    "              loss='sparse_categorical_crossentropy',\n",
    "              metrics=[tf.keras.metrics.sparse_categorical_accuracy])\n",
    "model.fit(X_train, y_train, batch_size=64, epochs=1, validation_data=(X_val, y_val))\n",
    "model.evaluate(X_test, y_test)"
   ],
   "outputs": [
    {
     "name": "stdout",
     "output_type": "stream",
     "text": [
      "\u001B[1m766/766\u001B[0m \u001B[32m━━━━━━━━━━━━━━━━━━━━\u001B[0m\u001B[37m\u001B[0m \u001B[1m13s\u001B[0m 17ms/step - loss: 1.8044 - sparse_categorical_accuracy: 0.3556 - val_loss: 1.3728 - val_sparse_categorical_accuracy: 0.5140\n",
      "\u001B[1m313/313\u001B[0m \u001B[32m━━━━━━━━━━━━━━━━━━━━\u001B[0m\u001B[37m\u001B[0m \u001B[1m1s\u001B[0m 4ms/step - loss: 1.3678 - sparse_categorical_accuracy: 0.5139\n"
     ]
    },
    {
     "data": {
      "text/plain": [
       "[1.3710508346557617, 0.5120999813079834]"
      ]
     },
     "execution_count": 20,
     "metadata": {},
     "output_type": "execute_result"
    }
   ],
   "execution_count": 20
  },
  {
   "cell_type": "markdown",
   "metadata": {
    "id": "05p4MrdA00s0"
   },
   "source": [
    "# Использование Keras Functional API\n",
    "\n",
    "Для реализации более сложных архитектур сети с несколькими входами/выходами, повторным использованием слоев, \"остаточными\" связями (residual connections) необходимо явно указать входные и выходные тензоры.\n",
    "\n",
    "Ниже представлен пример для полносвязной сети."
   ]
  },
  {
   "cell_type": "code",
   "metadata": {
    "colab": {
     "base_uri": "https://localhost:8080/"
    },
    "id": "0PZKJvMk00s0",
    "outputId": "51c2dfd6-a378-4a9d-da79-7d8d10687119",
    "ExecuteTime": {
     "end_time": "2024-05-07T00:40:24.325343Z",
     "start_time": "2024-05-07T00:40:24.298559Z"
    }
   },
   "source": [
    "def two_layer_fc_functional(input_shape, hidden_size, num_classes):\n",
    "    initializer = tf.initializers.VarianceScaling(scale=2.0)\n",
    "    inputs = tf.keras.Input(shape=input_shape)\n",
    "    flattened_inputs = tf.keras.layers.Flatten()(inputs)\n",
    "    fc1_output = tf.keras.layers.Dense(hidden_size, activation='relu',\n",
    "                                 kernel_initializer=initializer)(flattened_inputs)\n",
    "    scores = tf.keras.layers.Dense(num_classes, activation='softmax',\n",
    "                             kernel_initializer=initializer)(fc1_output)\n",
    "\n",
    "    # Instantiate the model given inputs and outputs.\n",
    "    model = tf.keras.Model(inputs=inputs, outputs=scores)\n",
    "    return model\n",
    "\n",
    "def test_two_layer_fc_functional():\n",
    "    \"\"\" A small unit test to exercise the TwoLayerFC model above. \"\"\"\n",
    "    input_size, hidden_size, num_classes = 50, 42, 10\n",
    "    input_shape = (50,)\n",
    "\n",
    "    x = tf.zeros((64, input_size))\n",
    "    model = two_layer_fc_functional(input_shape, hidden_size, num_classes)\n",
    "\n",
    "    with tf.device(device):\n",
    "        scores = model(x)\n",
    "        print(scores.shape)\n",
    "\n",
    "test_two_layer_fc_functional()"
   ],
   "outputs": [
    {
     "name": "stdout",
     "output_type": "stream",
     "text": [
      "(64, 10)\n"
     ]
    }
   ],
   "execution_count": 21
  },
  {
   "cell_type": "code",
   "metadata": {
    "colab": {
     "base_uri": "https://localhost:8080/"
    },
    "id": "siecnw5w00s0",
    "outputId": "afd2f178-6181-4257-a39c-714acbb9a0c8",
    "ExecuteTime": {
     "end_time": "2024-05-07T00:40:59.581010Z",
     "start_time": "2024-05-07T00:40:24.325343Z"
    }
   },
   "source": [
    "input_shape = (32, 32, 3)\n",
    "hidden_size, num_classes = 4000, 10\n",
    "learning_rate = 1e-2\n",
    "\n",
    "def model_init_fn():\n",
    "    return two_layer_fc_functional(input_shape, hidden_size, num_classes)\n",
    "\n",
    "def optimizer_init_fn():\n",
    "    return tf.keras.optimizers.SGD(learning_rate=learning_rate)\n",
    "\n",
    "train_part34(model_init_fn, optimizer_init_fn)"
   ],
   "outputs": [
    {
     "name": "stdout",
     "output_type": "stream",
     "text": [
      "Iteration 0, Epoch 1, Loss: 2.774383306503296, Accuracy: 14.0625, Val Loss: 2.9861907958984375, Val Accuracy: 12.300000190734863\n",
      "Iteration 100, Epoch 1, Loss: 2.2660133838653564, Accuracy: 27.831066131591797, Val Loss: 1.9430962800979614, Val Accuracy: 37.5\n",
      "Iteration 200, Epoch 1, Loss: 2.1008458137512207, Accuracy: 31.72418975830078, Val Loss: 1.8931944370269775, Val Accuracy: 38.60000228881836\n",
      "Iteration 300, Epoch 1, Loss: 2.0197901725769043, Accuracy: 33.90261459350586, Val Loss: 1.877178430557251, Val Accuracy: 37.70000076293945\n",
      "Iteration 400, Epoch 1, Loss: 1.9474018812179565, Accuracy: 35.89463806152344, Val Loss: 1.7702287435531616, Val Accuracy: 41.10000228881836\n",
      "Iteration 500, Epoch 1, Loss: 1.8996343612670898, Accuracy: 37.06337356567383, Val Loss: 1.6529210805892944, Val Accuracy: 45.10000228881836\n",
      "Iteration 600, Epoch 1, Loss: 1.867045283317566, Accuracy: 37.95756912231445, Val Loss: 1.691630482673645, Val Accuracy: 41.80000305175781\n",
      "Iteration 700, Epoch 1, Loss: 1.8402100801467896, Accuracy: 38.63008499145508, Val Loss: 1.6489835977554321, Val Accuracy: 42.89999771118164\n"
     ]
    }
   ],
   "execution_count": 22
  },
  {
   "cell_type": "markdown",
   "metadata": {
    "id": "rjCqJtE800s1"
   },
   "source": [
    "Поэкспериментируйте с архитектурой сверточной сети. Для вашего набора данных вам необходимо получить как минимум 70% accuracy на валидационной выборке за 10 эпох обучения. Опишите все эксперименты и сделайте выводы (без выполнения данного пункта работы приниматься не будут).\n",
    "\n",
    "Эспериментируйте с архитектурой, гиперпараметрами, функцией потерь, регуляризацией, методом оптимизации.  \n",
    "\n",
    "https://www.tensorflow.org/versions/r2.0/api_docs/python/tf/keras/layers/BatchNormalization#methods https://www.tensorflow.org/versions/r2.0/api_docs/python/tf/keras/layers/Dropout#methods"
   ]
  },
  {
   "metadata": {
    "ExecuteTime": {
     "end_time": "2024-05-07T00:40:59.586168Z",
     "start_time": "2024-05-07T00:40:59.581010Z"
    }
   },
   "cell_type": "code",
   "source": [
    "if tf.config.list_physical_devices('GPU'):\n",
    "    print(\"GPU доступен!\")\n",
    "else:\n",
    "    print(\"GPU не обнаружен. Код будет работать на CPU.\")"
   ],
   "outputs": [
    {
     "name": "stdout",
     "output_type": "stream",
     "text": [
      "GPU не обнаружен. Код будет работать на CPU.\n"
     ]
    }
   ],
   "execution_count": 23
  },
  {
   "cell_type": "code",
   "metadata": {
    "colab": {
     "base_uri": "https://localhost:8080/"
    },
    "id": "eBqPjH7v00s1",
    "outputId": "b47e880e-7438-40fa-b94a-f11a2b044153",
    "ExecuteTime": {
     "end_time": "2024-05-07T01:33:28.224438Z",
     "start_time": "2024-05-07T00:40:59.586168Z"
    }
   },
   "source": [
    "class CustomConvNet(tf.keras.Model):\n",
    "    def __init__(self):\n",
    "        super(CustomConvNet, self).__init__()\n",
    "        ############################################################################\n",
    "        # TODO: Construct a model that performs well on CIFAR-10                   #\n",
    "        ############################################################################\n",
    "        # *****START OF YOUR CODE (DO NOT DELETE/MODIFY THIS LINE)*****\n",
    "\n",
    "        # Сверточный слой с 64 фильтрами размером 3x3, padding 'same' и активацией ReLU\n",
    "        self.conv1 = tf.keras.layers.Conv2D(64, (3, 3), padding='same', activation='relu')\n",
    "        # Сверточный слой с 128 фильтрами размером 3x3, padding 'same' и активацией ReLU\n",
    "        self.conv2 = tf.keras.layers.Conv2D(128, (3, 3), padding='same', activation='relu')\n",
    "        # Слой максимального пулинга с размером окна 2x2\n",
    "        self.max_pool = tf.keras.layers.MaxPooling2D((2, 2))\n",
    "        # Слой Dropout с вероятностью 0.25\n",
    "        self.dropout1 = tf.keras.layers.Dropout(0.25)\n",
    "        # Сверточный слой с 256 фильтрами размером 3x3, padding 'same' и активацией ReLU\n",
    "        self.conv3 = tf.keras.layers.Conv2D(256, (3, 3), padding='same', activation='relu')\n",
    "        # Сверточный слой с 512 фильтрами размером 3x3, padding 'same' и активацией ReLU\n",
    "        self.conv4 = tf.keras.layers.Conv2D(512, (3, 3), padding='same', activation='relu')\n",
    "        # Слой Dropout с вероятностью 0.25\n",
    "        self.dropout2 = tf.keras.layers.Dropout(0.25)\n",
    "        # Слой выравнивания (Flatten)\n",
    "        self.flatten = tf.keras.layers.Flatten()\n",
    "        # Полносвязный слой с 1024 нейронами и активацией ReLU\n",
    "        self.fc1 = tf.keras.layers.Dense(1024, activation='relu')\n",
    "        # Слой Dropout с вероятностью 0.5\n",
    "        self.dropout3 = tf.keras.layers.Dropout(0.5)\n",
    "        # Выходной полносвязный слой с 10 нейронами и активацией Softmax\n",
    "        self.fc2 = tf.keras.layers.Dense(10, activation='softmax')\n",
    "\n",
    "        # *****END OF YOUR CODE (DO NOT DELETE/MODIFY THIS LINE)*****\n",
    "        ############################################################################\n",
    "        #                            END OF YOUR CODE                              #\n",
    "        ############################################################################\n",
    "\n",
    "    def call(self, input_tensor, training=False):\n",
    "        ############################################################################\n",
    "        # TODO: Construct a model that performs well on CIFAR-10                   #\n",
    "        ############################################################################\n",
    "        # *****START OF YOUR CODE (DO NOT DELETE/MODIFY THIS LINE)*****\n",
    "\n",
    "        # Прохождение входного тензора через первый сверточный слой\n",
    "        x = self.conv1(input_tensor)\n",
    "        # Прохождение через второй сверточный слой\n",
    "        x = self.conv2(x)\n",
    "        # Применение максимального пулинга\n",
    "        x = self.max_pool(x)\n",
    "        # Применение Dropout после первого блока сверточных слоев\n",
    "        x = self.dropout1(x, training=training)\n",
    "        # Прохождение через третий сверточный слой\n",
    "        x = self.conv3(x)\n",
    "        # Прохождение через четвертый сверточный слой\n",
    "        x = self.conv4(x)\n",
    "        # Применение максимального пулинга\n",
    "        x = self.max_pool(x)\n",
    "        # Применение Dropout после второго блока сверточных слоев\n",
    "        x = self.dropout2(x, training=training)\n",
    "        # Выравнивание тензора в плоский вектор\n",
    "        x = self.flatten(x)\n",
    "        # Прохождение через первый полносвязный слой\n",
    "        x = self.fc1(x)\n",
    "        # Применение Dropout после первого полносвязного слоя\n",
    "        x = self.dropout3(x, training=training)\n",
    "        # Прохождение через выходной полносвязный слой\n",
    "        x = self.fc2(x)\n",
    "\n",
    "        # *****END OF YOUR CODE (DO NOT DELETE/MODIFY THIS LINE)*****\n",
    "        ############################################################################\n",
    "        #                            END OF YOUR CODE                              #\n",
    "        ############################################################################\n",
    "        return x\n",
    "\n",
    "\n",
    "print_every = 500\n",
    "num_epochs = 4\n",
    "\n",
    "model = CustomConvNet()\n",
    "\n",
    "def model_init_fn():\n",
    "    return CustomConvNet()\n",
    "\n",
    "def optimizer_init_fn():\n",
    "    learning_rate = 1e-3\n",
    "    return tf.keras.optimizers.Adam(learning_rate)\n",
    "\n",
    "train_part34(model_init_fn, optimizer_init_fn, num_epochs=num_epochs, is_training=True)"
   ],
   "outputs": [
    {
     "name": "stdout",
     "output_type": "stream",
     "text": [
      "Iteration 0, Epoch 1, Loss: 2.3331825733184814, Accuracy: 9.375, Val Loss: 8.704109191894531, Val Accuracy: 7.90000057220459\n",
      "Iteration 500, Epoch 1, Loss: 1.6061919927597046, Accuracy: 42.08146286010742, Val Loss: 1.2006417512893677, Val Accuracy: 57.599998474121094\n",
      "Iteration 1000, Epoch 2, Loss: 1.0469330549240112, Accuracy: 62.5, Val Loss: 0.9300834536552429, Val Accuracy: 68.19999694824219\n",
      "Iteration 1500, Epoch 2, Loss: 0.9621782898902893, Accuracy: 65.93962097167969, Val Loss: 0.7653750777244568, Val Accuracy: 73.5\n",
      "Iteration 2000, Epoch 3, Loss: 0.8046960234642029, Accuracy: 71.5918197631836, Val Loss: 0.7454738616943359, Val Accuracy: 74.19999694824219\n",
      "Iteration 2500, Epoch 4, Loss: 0.7137347459793091, Accuracy: 75.00769805908203, Val Loss: 0.6826524138450623, Val Accuracy: 74.9000015258789\n",
      "Iteration 3000, Epoch 4, Loss: 0.6867903470993042, Accuracy: 75.92461395263672, Val Loss: 0.6490383744239807, Val Accuracy: 77.60000610351562\n"
     ]
    }
   ],
   "execution_count": 24
  },
  {
   "cell_type": "markdown",
   "metadata": {
    "id": "BpDOguj100s2"
   },
   "source": [
    "Опишите все эксперименты, результаты. Сделайте выводы."
   ]
  },
  {
   "cell_type": "markdown",
   "metadata": {
    "id": "L2wvNY2URYMf"
   },
   "source": [
    "1. Структура сети включает в себя: сверточные сллои, максимальное объединение, droput, сглаживание и полностью связанные слои.\n",
    "2. Были испытаны разнообразные оптимизаторы при одинаковых настройках: SGD, Adam, RMSprop. Наименее эффективным оказался SGD, показавший примерно 30% точности за 10 эпох. Adam и RMSprop показали схожие результаты, но в большинстве случаев Adam оказывался немного более точным.\n",
    "3. Функции активации relu и sigmoid были протестированы на входном и скрытом слоях, в то время как на выходном слое были испытаны sigmoid и softmax. Наиболее низкий результат был достигнут при сочетании sigmoid + softmax + Adam - около 13 эпох необходимо было для достижения нужной точности. Наилучшая комбинация - relu + softmax + Adam - позволила достичь необходимого уровня точности всего за 4 эпохи. Это привело к сокращению числа эпох для обучения с 10 до 4."
   ]
  }
 ],
 "metadata": {
  "colab": {
   "provenance": []
  },
  "kernelspec": {
   "display_name": "Python 3 (ipykernel)",
   "language": "python",
   "name": "python3"
  },
  "language_info": {
   "codemirror_mode": {
    "name": "ipython",
    "version": 3
   },
   "file_extension": ".py",
   "mimetype": "text/x-python",
   "name": "python",
   "nbconvert_exporter": "python",
   "pygments_lexer": "ipython3",
   "version": "3.11.1"
  }
 },
 "nbformat": 4,
 "nbformat_minor": 0
}
